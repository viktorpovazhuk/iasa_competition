{
 "cells": [
  {
   "cell_type": "code",
   "execution_count": 1,
   "id": "9950e7f6-082d-40cf-80ad-97f91392462a",
   "metadata": {},
   "outputs": [],
   "source": [
    "import numpy as np\n",
    "import pandas as pd\n",
    "import seaborn as sns\n",
    "import matplotlib.pyplot as plt\n",
    "%matplotlib inline\n",
    "from itertools import product\n",
    "import scipy.stats as ss\n",
    "import pickle\n",
    "\n",
    "pd.options.display.max_rows = 150\n",
    "pd.options.display.max_columns = 100"
   ]
  },
  {
   "cell_type": "code",
   "execution_count": 2,
   "id": "f389294f-b805-4c9c-b07b-ba1cae483193",
   "metadata": {},
   "outputs": [],
   "source": [
    "us = pd.read_csv('./datasets/task.csv')"
   ]
  },
  {
   "cell_type": "code",
   "execution_count": 4,
   "id": "fabb12ca-3d39-418d-8485-9ac093ad2934",
   "metadata": {},
   "outputs": [],
   "source": [
    "# feats = [f'chapters_finished_day{i}' for i in [7]] + \\\n",
    "# [f'chapters_opened_day{i}' for i in [7]] + \\\n",
    "# [f'retained_day{i}' for i in [7]]\n",
    "targ = 'target_full_ltv_day30'\n",
    "subtargs = ['target_sub_ltv_day30', 'target_iap_ltv_day30', 'target_ad_ltv_day30']\n",
    "time_cols = ['install_date']\n",
    "cat_cols = ['media_source', 'country_code', 'platform']\n",
    "num_cols = [col for col in us.columns if col not in [targ] + subtargs + time_cols + cat_cols]"
   ]
  },
  {
   "cell_type": "code",
   "execution_count": 5,
   "id": "97f19128-98ad-4743-9ee5-dabcd0d2311e",
   "metadata": {},
   "outputs": [],
   "source": [
    "us = us[num_cols + [targ] + ['platform']]"
   ]
  },
  {
   "cell_type": "code",
   "execution_count": 8,
   "id": "b1a06743-b374-48ea-9764-98113a857d11",
   "metadata": {},
   "outputs": [],
   "source": [
    "us = us[us['platform'] == 'android']\n",
    "us = us.drop('platform', axis=1)"
   ]
  },
  {
   "cell_type": "code",
   "execution_count": 9,
   "id": "1a0ef3f5-5bf2-43ca-826c-b326e833b100",
   "metadata": {},
   "outputs": [
    {
     "data": {
      "text/plain": [
       "total_sessions_day0           float64\n",
       "total_sessions_day1           float64\n",
       "total_sessions_day3           float64\n",
       "total_sessions_day7           float64\n",
       "chapters_finished_day0          int64\n",
       "chapters_finished_day1          int64\n",
       "chapters_finished_day3          int64\n",
       "chapters_finished_day7          int64\n",
       "chapters_opened_day0            int64\n",
       "chapters_opened_day1            int64\n",
       "chapters_opened_day3            int64\n",
       "chapters_opened_day7            int64\n",
       "chapters_closed_day0            int64\n",
       "chapters_closed_day1            int64\n",
       "chapters_closed_day3            int64\n",
       "chapters_closed_day7            int64\n",
       "diamonds_received_day0          int64\n",
       "diamonds_received_day1          int64\n",
       "diamonds_received_day3          int64\n",
       "diamonds_received_day7          int64\n",
       "diamonds_spent_day0             int64\n",
       "diamonds_spent_day1             int64\n",
       "diamonds_spent_day3             int64\n",
       "diamonds_spent_day7             int64\n",
       "tickets_spent_day0              int64\n",
       "tickets_spent_day1              int64\n",
       "tickets_spent_day3              int64\n",
       "tickets_spent_day7              int64\n",
       "retained_day1                   int64\n",
       "retained_day3                   int64\n",
       "retained_day7                   int64\n",
       "chapters_finished_session1      int64\n",
       "chapters_finished_session3      int64\n",
       "chapters_finished_session9      int64\n",
       "chapters_opened_session1        int64\n",
       "chapters_opened_session3        int64\n",
       "chapters_opened_session9        int64\n",
       "chapters_closed_session1        int64\n",
       "chapters_closed_session3        int64\n",
       "chapters_closed_session9        int64\n",
       "diamonds_spent_session1         int64\n",
       "diamonds_spent_session3         int64\n",
       "diamonds_spent_session9         int64\n",
       "tickets_spent_session1          int64\n",
       "tickets_spent_session3          int64\n",
       "tickets_spent_session9          int64\n",
       "app_sub_ltv_day0              float64\n",
       "app_sub_ltv_day1              float64\n",
       "app_sub_ltv_day3              float64\n",
       "app_iap_ltv_day0              float64\n",
       "app_iap_ltv_day1              float64\n",
       "app_iap_ltv_day3              float64\n",
       "ad_ltv_day0                   float64\n",
       "ad_ltv_day1                   float64\n",
       "ad_ltv_day3                   float64\n",
       "target_full_ltv_day30         float64\n",
       "dtype: object"
      ]
     },
     "execution_count": 9,
     "metadata": {},
     "output_type": "execute_result"
    }
   ],
   "source": [
    "us.dtypes"
   ]
  },
  {
   "cell_type": "code",
   "execution_count": 6,
   "id": "944313c1-0587-4821-a350-7cd19ae43e95",
   "metadata": {},
   "outputs": [
    {
     "data": {
      "text/html": [
       "<div>\n",
       "<style scoped>\n",
       "    .dataframe tbody tr th:only-of-type {\n",
       "        vertical-align: middle;\n",
       "    }\n",
       "\n",
       "    .dataframe tbody tr th {\n",
       "        vertical-align: top;\n",
       "    }\n",
       "\n",
       "    .dataframe thead th {\n",
       "        text-align: right;\n",
       "    }\n",
       "</style>\n",
       "<table border=\"1\" class=\"dataframe\">\n",
       "  <thead>\n",
       "    <tr style=\"text-align: right;\">\n",
       "      <th></th>\n",
       "      <th>chapters_finished_day7</th>\n",
       "      <th>chapters_opened_day7</th>\n",
       "      <th>retained_day7</th>\n",
       "      <th>media_source</th>\n",
       "      <th>install_date</th>\n",
       "      <th>country_code</th>\n",
       "      <th>platform</th>\n",
       "    </tr>\n",
       "  </thead>\n",
       "  <tbody>\n",
       "    <tr>\n",
       "      <th>1467827</th>\n",
       "      <td>9</td>\n",
       "      <td>10</td>\n",
       "      <td>0</td>\n",
       "      <td>SOURCE_17</td>\n",
       "      <td>2021-12-30</td>\n",
       "      <td>COUNTRY_141</td>\n",
       "      <td>ios</td>\n",
       "    </tr>\n",
       "    <tr>\n",
       "      <th>1467828</th>\n",
       "      <td>13</td>\n",
       "      <td>13</td>\n",
       "      <td>0</td>\n",
       "      <td>SOURCE_23</td>\n",
       "      <td>2021-12-30</td>\n",
       "      <td>COUNTRY_141</td>\n",
       "      <td>ios</td>\n",
       "    </tr>\n",
       "    <tr>\n",
       "      <th>1467829</th>\n",
       "      <td>18</td>\n",
       "      <td>19</td>\n",
       "      <td>0</td>\n",
       "      <td>SOURCE_23</td>\n",
       "      <td>2021-12-30</td>\n",
       "      <td>COUNTRY_141</td>\n",
       "      <td>ios</td>\n",
       "    </tr>\n",
       "    <tr>\n",
       "      <th>1467830</th>\n",
       "      <td>24</td>\n",
       "      <td>24</td>\n",
       "      <td>0</td>\n",
       "      <td>SOURCE_4</td>\n",
       "      <td>2021-12-30</td>\n",
       "      <td>COUNTRY_141</td>\n",
       "      <td>ios</td>\n",
       "    </tr>\n",
       "    <tr>\n",
       "      <th>1467831</th>\n",
       "      <td>15</td>\n",
       "      <td>16</td>\n",
       "      <td>0</td>\n",
       "      <td>SOURCE_1</td>\n",
       "      <td>2021-12-30</td>\n",
       "      <td>COUNTRY_141</td>\n",
       "      <td>android</td>\n",
       "    </tr>\n",
       "  </tbody>\n",
       "</table>\n",
       "</div>"
      ],
      "text/plain": [
       "         chapters_finished_day7  chapters_opened_day7  retained_day7  \\\n",
       "1467827                       9                    10              0   \n",
       "1467828                      13                    13              0   \n",
       "1467829                      18                    19              0   \n",
       "1467830                      24                    24              0   \n",
       "1467831                      15                    16              0   \n",
       "\n",
       "        media_source install_date country_code platform  \n",
       "1467827    SOURCE_17   2021-12-30  COUNTRY_141      ios  \n",
       "1467828    SOURCE_23   2021-12-30  COUNTRY_141      ios  \n",
       "1467829    SOURCE_23   2021-12-30  COUNTRY_141      ios  \n",
       "1467830     SOURCE_4   2021-12-30  COUNTRY_141      ios  \n",
       "1467831     SOURCE_1   2021-12-30  COUNTRY_141  android  "
      ]
     },
     "execution_count": 6,
     "metadata": {},
     "output_type": "execute_result"
    }
   ],
   "source": [
    "us['install_date'] = pd.to_datetime(us['install_date'])\n",
    "us.tail()"
   ]
  },
  {
   "cell_type": "code",
   "execution_count": 7,
   "id": "e789d144-480d-4549-8acb-214310a8d9d4",
   "metadata": {},
   "outputs": [],
   "source": [
    "# top_countries = us.groupby('country_code')['country_code'].count().sort_values(ascending=False)[:20].index.values\n",
    "# us['country_code'] = np.where(us['country_code'].isin(top_countries), us['country_code'], 'COUNTRY_000')\n",
    "# high_act_percent = us[(us['country_code'] == 'COUNTRY_000') & us['activity'].isin([2, 3])].shape[0] / us.shape[0]\n",
    "# print(f'Users with high activity from joined countries (COUNTRY_000): {high_act_percent}')"
   ]
  },
  {
   "cell_type": "code",
   "execution_count": 10,
   "id": "154ea640-6fe8-4528-90ef-d3af027ff9a0",
   "metadata": {},
   "outputs": [],
   "source": [
    "us.to_pickle('./datasets/android_num_us.pkl')"
   ]
  }
 ],
 "metadata": {
  "kernelspec": {
   "display_name": "Python 3",
   "language": "python",
   "name": "python3"
  },
  "language_info": {
   "codemirror_mode": {
    "name": "ipython",
    "version": 3
   },
   "file_extension": ".py",
   "mimetype": "text/x-python",
   "name": "python",
   "nbconvert_exporter": "python",
   "pygments_lexer": "ipython3",
   "version": "3.10.4"
  }
 },
 "nbformat": 4,
 "nbformat_minor": 5
}
