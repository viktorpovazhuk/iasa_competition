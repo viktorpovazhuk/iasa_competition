{
 "cells": [
  {
   "cell_type": "code",
   "execution_count": 8,
   "id": "48ff3368-878d-42aa-b65a-500a2127a526",
   "metadata": {},
   "outputs": [],
   "source": [
    "import numpy as np\n",
    "import pandas as pd\n",
    "import seaborn as sns\n",
    "import matplotlib.pyplot as plt\n",
    "%matplotlib inline\n",
    "import scipy.stats as ss\n",
    "\n",
    "from itertools import product\n",
    "from functools import partial\n",
    "\n",
    "import pickle\n",
    "\n",
    "from sklearn.ensemble import RandomForestRegressor\n",
    "from xgboost import XGBRegressor\n",
    "from sklearn import svm\n",
    "\n",
    "from ray import tune\n",
    "from ray.tune.search.hyperopt import HyperOptSearch\n",
    "from ray.tune.schedulers import ASHAScheduler\n",
    "from ray.air.config import RunConfig\n",
    "\n",
    "from sklearn.metrics import mean_absolute_percentage_error, mean_absolute_error, mean_squared_error, r2_score, make_scorer\n",
    "\n",
    "from sklearn.model_selection import StratifiedKFold\n",
    "\n",
    "from skopt import BayesSearchCV\n",
    "from skopt.callbacks import DeadlineStopper, DeltaYStopper\n",
    "from skopt.space import Real, Categorical, Integer"
   ]
  },
  {
   "cell_type": "code",
   "execution_count": 3,
   "id": "d8b26ebb-0a13-4bb7-9d7a-1dadd31a2a81",
   "metadata": {
    "tags": []
   },
   "outputs": [
    {
     "name": "stdout",
     "output_type": "stream",
     "text": [
      "Collecting scikit-optimize\n",
      "  Downloading scikit_optimize-0.9.0-py2.py3-none-any.whl (100 kB)\n",
      "\u001b[2K     \u001b[38;2;114;156;31m━━━━━━━━━━━━━━━━━━━━━━━━━━━━━━━━━━━━━\u001b[0m \u001b[32m100.3/100.3 kB\u001b[0m \u001b[31m863.9 kB/s\u001b[0m eta \u001b[36m0:00:00\u001b[0m1m828.0 kB/s\u001b[0m eta \u001b[36m0:00:01\u001b[0m\n",
      "\u001b[?25hCollecting pyaml>=16.9\n",
      "  Downloading pyaml-21.10.1-py2.py3-none-any.whl (24 kB)\n",
      "Requirement already satisfied: scikit-learn>=0.20.0 in /home/vivi/anaconda3/envs/iasa/lib/python3.10/site-packages (from scikit-optimize) (1.1.1)\n",
      "Requirement already satisfied: joblib>=0.11 in /home/vivi/anaconda3/envs/iasa/lib/python3.10/site-packages (from scikit-optimize) (1.1.0)\n",
      "Requirement already satisfied: scipy>=0.19.1 in /home/vivi/.local/lib/python3.10/site-packages (from scikit-optimize) (1.8.0)\n",
      "Requirement already satisfied: numpy>=1.13.3 in /home/vivi/.local/lib/python3.10/site-packages (from scikit-optimize) (1.22.3)\n",
      "Requirement already satisfied: PyYAML in /home/vivi/anaconda3/envs/iasa/lib/python3.10/site-packages (from pyaml>=16.9->scikit-optimize) (6.0)\n",
      "Requirement already satisfied: threadpoolctl>=2.0.0 in /home/vivi/anaconda3/envs/iasa/lib/python3.10/site-packages (from scikit-learn>=0.20.0->scikit-optimize) (2.2.0)\n",
      "Installing collected packages: pyaml, scikit-optimize\n",
      "Successfully installed pyaml-21.10.1 scikit-optimize-0.9.0\n"
     ]
    }
   ],
   "source": [
    "# import sys\n",
    "# !{sys.executable} -m pip install scikit-optimize"
   ]
  },
  {
   "cell_type": "code",
   "execution_count": 9,
   "id": "afe5c73e-8557-4008-b890-4f7681dacda8",
   "metadata": {},
   "outputs": [],
   "source": [
    "TARGET = 'target_full_ltv_day30'\n",
    "subtargs = ['target_sub_ltv_day30', 'target_iap_ltv_day30', 'target_ad_ltv_day30']"
   ]
  },
  {
   "cell_type": "code",
   "execution_count": 4,
   "id": "18efd6fe-03d1-4092-bb86-4daa60ab4096",
   "metadata": {},
   "outputs": [],
   "source": [
    "us = pd.read_pickle('./datasets/android_num_us.pkl')"
   ]
  },
  {
   "cell_type": "code",
   "execution_count": 5,
   "id": "febccd45-81ef-45e5-ac4f-d6e218af2b8d",
   "metadata": {},
   "outputs": [],
   "source": [
    "kft_dict = pd.read_pickle('./datasets/android_num_kft.pkl')"
   ]
  },
  {
   "cell_type": "code",
   "execution_count": 5,
   "id": "b8ea9082-c4a7-4522-835f-1e9e85c90897",
   "metadata": {},
   "outputs": [
    {
     "data": {
      "text/html": [
       "<div>\n",
       "<style scoped>\n",
       "    .dataframe tbody tr th:only-of-type {\n",
       "        vertical-align: middle;\n",
       "    }\n",
       "\n",
       "    .dataframe tbody tr th {\n",
       "        vertical-align: top;\n",
       "    }\n",
       "\n",
       "    .dataframe thead th {\n",
       "        text-align: right;\n",
       "    }\n",
       "</style>\n",
       "<table border=\"1\" class=\"dataframe\">\n",
       "  <thead>\n",
       "    <tr style=\"text-align: right;\">\n",
       "      <th></th>\n",
       "      <th>total_sessions_day0</th>\n",
       "      <th>total_sessions_day1</th>\n",
       "      <th>total_sessions_day3</th>\n",
       "      <th>total_sessions_day7</th>\n",
       "      <th>chapters_finished_day0</th>\n",
       "      <th>chapters_finished_day1</th>\n",
       "      <th>chapters_finished_day3</th>\n",
       "      <th>chapters_finished_day7</th>\n",
       "      <th>chapters_opened_day0</th>\n",
       "      <th>chapters_opened_day1</th>\n",
       "      <th>...</th>\n",
       "      <th>app_sub_ltv_day0</th>\n",
       "      <th>app_sub_ltv_day1</th>\n",
       "      <th>app_sub_ltv_day3</th>\n",
       "      <th>app_iap_ltv_day0</th>\n",
       "      <th>app_iap_ltv_day1</th>\n",
       "      <th>app_iap_ltv_day3</th>\n",
       "      <th>ad_ltv_day0</th>\n",
       "      <th>ad_ltv_day1</th>\n",
       "      <th>ad_ltv_day3</th>\n",
       "      <th>target_full_ltv_day30</th>\n",
       "    </tr>\n",
       "  </thead>\n",
       "  <tbody>\n",
       "    <tr>\n",
       "      <th>1467813</th>\n",
       "      <td>13.0</td>\n",
       "      <td>20.0</td>\n",
       "      <td>20.0</td>\n",
       "      <td>20.0</td>\n",
       "      <td>12</td>\n",
       "      <td>18</td>\n",
       "      <td>18</td>\n",
       "      <td>18</td>\n",
       "      <td>12</td>\n",
       "      <td>19</td>\n",
       "      <td>...</td>\n",
       "      <td>0.0</td>\n",
       "      <td>0.0</td>\n",
       "      <td>0.0</td>\n",
       "      <td>4.394029</td>\n",
       "      <td>4.394029</td>\n",
       "      <td>4.394029</td>\n",
       "      <td>0.426460</td>\n",
       "      <td>0.426460</td>\n",
       "      <td>0.426460</td>\n",
       "      <td>4.820489</td>\n",
       "    </tr>\n",
       "    <tr>\n",
       "      <th>1467814</th>\n",
       "      <td>13.0</td>\n",
       "      <td>20.0</td>\n",
       "      <td>20.0</td>\n",
       "      <td>20.0</td>\n",
       "      <td>12</td>\n",
       "      <td>18</td>\n",
       "      <td>18</td>\n",
       "      <td>18</td>\n",
       "      <td>12</td>\n",
       "      <td>19</td>\n",
       "      <td>...</td>\n",
       "      <td>0.0</td>\n",
       "      <td>0.0</td>\n",
       "      <td>0.0</td>\n",
       "      <td>3.335499</td>\n",
       "      <td>3.335499</td>\n",
       "      <td>3.335499</td>\n",
       "      <td>0.323725</td>\n",
       "      <td>0.323725</td>\n",
       "      <td>0.323725</td>\n",
       "      <td>3.659224</td>\n",
       "    </tr>\n",
       "    <tr>\n",
       "      <th>1467815</th>\n",
       "      <td>9.0</td>\n",
       "      <td>16.0</td>\n",
       "      <td>24.0</td>\n",
       "      <td>25.0</td>\n",
       "      <td>7</td>\n",
       "      <td>13</td>\n",
       "      <td>17</td>\n",
       "      <td>19</td>\n",
       "      <td>8</td>\n",
       "      <td>14</td>\n",
       "      <td>...</td>\n",
       "      <td>0.0</td>\n",
       "      <td>0.0</td>\n",
       "      <td>0.0</td>\n",
       "      <td>4.171699</td>\n",
       "      <td>4.171699</td>\n",
       "      <td>6.713089</td>\n",
       "      <td>0.013045</td>\n",
       "      <td>0.013045</td>\n",
       "      <td>0.013045</td>\n",
       "      <td>6.726134</td>\n",
       "    </tr>\n",
       "    <tr>\n",
       "      <th>1467826</th>\n",
       "      <td>9.0</td>\n",
       "      <td>9.0</td>\n",
       "      <td>18.0</td>\n",
       "      <td>42.0</td>\n",
       "      <td>9</td>\n",
       "      <td>9</td>\n",
       "      <td>17</td>\n",
       "      <td>34</td>\n",
       "      <td>11</td>\n",
       "      <td>11</td>\n",
       "      <td>...</td>\n",
       "      <td>0.0</td>\n",
       "      <td>0.0</td>\n",
       "      <td>0.0</td>\n",
       "      <td>3.567268</td>\n",
       "      <td>3.567268</td>\n",
       "      <td>7.898951</td>\n",
       "      <td>0.079232</td>\n",
       "      <td>0.079232</td>\n",
       "      <td>0.179316</td>\n",
       "      <td>78.376447</td>\n",
       "    </tr>\n",
       "    <tr>\n",
       "      <th>1467831</th>\n",
       "      <td>6.0</td>\n",
       "      <td>7.0</td>\n",
       "      <td>7.0</td>\n",
       "      <td>7.0</td>\n",
       "      <td>15</td>\n",
       "      <td>15</td>\n",
       "      <td>15</td>\n",
       "      <td>15</td>\n",
       "      <td>15</td>\n",
       "      <td>16</td>\n",
       "      <td>...</td>\n",
       "      <td>0.0</td>\n",
       "      <td>0.0</td>\n",
       "      <td>0.0</td>\n",
       "      <td>3.949385</td>\n",
       "      <td>3.949385</td>\n",
       "      <td>3.949385</td>\n",
       "      <td>0.114909</td>\n",
       "      <td>0.114909</td>\n",
       "      <td>0.114909</td>\n",
       "      <td>4.064295</td>\n",
       "    </tr>\n",
       "  </tbody>\n",
       "</table>\n",
       "<p>5 rows × 56 columns</p>\n",
       "</div>"
      ],
      "text/plain": [
       "         total_sessions_day0  total_sessions_day1  total_sessions_day3  \\\n",
       "1467813                 13.0                 20.0                 20.0   \n",
       "1467814                 13.0                 20.0                 20.0   \n",
       "1467815                  9.0                 16.0                 24.0   \n",
       "1467826                  9.0                  9.0                 18.0   \n",
       "1467831                  6.0                  7.0                  7.0   \n",
       "\n",
       "         total_sessions_day7  chapters_finished_day0  chapters_finished_day1  \\\n",
       "1467813                 20.0                      12                      18   \n",
       "1467814                 20.0                      12                      18   \n",
       "1467815                 25.0                       7                      13   \n",
       "1467826                 42.0                       9                       9   \n",
       "1467831                  7.0                      15                      15   \n",
       "\n",
       "         chapters_finished_day3  chapters_finished_day7  chapters_opened_day0  \\\n",
       "1467813                      18                      18                    12   \n",
       "1467814                      18                      18                    12   \n",
       "1467815                      17                      19                     8   \n",
       "1467826                      17                      34                    11   \n",
       "1467831                      15                      15                    15   \n",
       "\n",
       "         chapters_opened_day1  ...  app_sub_ltv_day0  app_sub_ltv_day1  \\\n",
       "1467813                    19  ...               0.0               0.0   \n",
       "1467814                    19  ...               0.0               0.0   \n",
       "1467815                    14  ...               0.0               0.0   \n",
       "1467826                    11  ...               0.0               0.0   \n",
       "1467831                    16  ...               0.0               0.0   \n",
       "\n",
       "         app_sub_ltv_day3  app_iap_ltv_day0  app_iap_ltv_day1  \\\n",
       "1467813               0.0          4.394029          4.394029   \n",
       "1467814               0.0          3.335499          3.335499   \n",
       "1467815               0.0          4.171699          4.171699   \n",
       "1467826               0.0          3.567268          3.567268   \n",
       "1467831               0.0          3.949385          3.949385   \n",
       "\n",
       "         app_iap_ltv_day3  ad_ltv_day0  ad_ltv_day1  ad_ltv_day3  \\\n",
       "1467813          4.394029     0.426460     0.426460     0.426460   \n",
       "1467814          3.335499     0.323725     0.323725     0.323725   \n",
       "1467815          6.713089     0.013045     0.013045     0.013045   \n",
       "1467826          7.898951     0.079232     0.079232     0.179316   \n",
       "1467831          3.949385     0.114909     0.114909     0.114909   \n",
       "\n",
       "         target_full_ltv_day30  \n",
       "1467813               4.820489  \n",
       "1467814               3.659224  \n",
       "1467815               6.726134  \n",
       "1467826              78.376447  \n",
       "1467831               4.064295  \n",
       "\n",
       "[5 rows x 56 columns]"
      ]
     },
     "execution_count": 5,
     "metadata": {},
     "output_type": "execute_result"
    }
   ],
   "source": [
    "us.tail()"
   ]
  },
  {
   "cell_type": "code",
   "execution_count": 7,
   "id": "1c21eb83-dff4-4ba9-ac4c-d6d8f2c44950",
   "metadata": {},
   "outputs": [
    {
     "data": {
      "text/plain": [
       "dict_keys(['test', 'sep_0', 'sep_1', 'sep_2', 'sep_3', 'sep_4', 'sep_5', 'sep_6', 'sep_7', 'sep_8', 'sep_9'])"
      ]
     },
     "execution_count": 7,
     "metadata": {},
     "output_type": "execute_result"
    }
   ],
   "source": [
    "kft_dict.keys()"
   ]
  },
  {
   "cell_type": "code",
   "execution_count": 6,
   "id": "a3721d25-fb8f-42d6-81c9-b12935572bb6",
   "metadata": {},
   "outputs": [],
   "source": [
    "def calc_metrics(y_hat, y_true):\n",
    "    mape = mean_absolute_percentage_error(y_true, y_hat)\n",
    "    rmse = mean_squared_error(y_true, y_hat, squared=False)\n",
    "    r2 = r2_score(y_true, y_hat)\n",
    "    mae = mean_absolute_error(y_true, y_hat)\n",
    "    return mape, rmse, r2, mae\n",
    "\n",
    "def get_fold_results(df, target, kft_dict, fold_i, model):\n",
    "    sep_dict = kft_dict[f'sep_{fold_i}']\n",
    "        \n",
    "    train_df = df.iloc[sep_dict['train']]\n",
    "    X_train = train_df.drop(target, axis=1)\n",
    "    y_train = train_df[target]\n",
    "\n",
    "    test_df = df.iloc[sep_dict['valid']]\n",
    "    X_test = test_df.drop(target, axis=1)\n",
    "    y_test = test_df[target]\n",
    "\n",
    "    model.fit(X_train, y_train)\n",
    "    y_hat_train = model.predict(X_train)\n",
    "    y_hat_test = model.predict(X_test)\n",
    "    \n",
    "    train_metrics = calc_metrics(y_hat_train, y_train)\n",
    "    test_metrics = calc_metrics(y_hat_test, y_test)\n",
    "    \n",
    "    return train_metrics, test_metrics\n",
    "\n",
    "def get_cv_results(df, target, kft_dict, model):\n",
    "    train_metrics = []\n",
    "    test_metrics = []\n",
    "    for i in range(10):\n",
    "        sep_dict = kft_dict[f'sep_{i}']\n",
    "        \n",
    "        train_df = df.iloc[sep_dict['train']]\n",
    "        X_train = train_df.drop(target, axis=1)\n",
    "        y_train = train_df[target]\n",
    "        \n",
    "        test_df = df.iloc[sep_dict['valid']]\n",
    "        X_test = test_df.drop(target, axis=1)\n",
    "        y_test = test_df[target]\n",
    "        \n",
    "        model.fit(X_train, y_train)\n",
    "        y_hat_train = model.predict(X_train)\n",
    "        y_hat_test = model.predict(X_test)\n",
    "        \n",
    "        train_metrics.append(calc_metrics(y_hat_train, y_train))\n",
    "        test_metrics.append(calc_metrics(y_hat_test, y_test))\n",
    "        \n",
    "        print(f'Fold finished: {i}')\n",
    "    train_metrics = pd.DataFrame(train_metrics, columns=['mape', 'rmse', 'r2', 'mae'])\n",
    "    test_metrics = pd.DataFrame(test_metrics, columns=['mape', 'rmse', 'r2', 'mae'])\n",
    "    \n",
    "    return train_metrics, test_metrics\n",
    "\n",
    "def get_agg_metrics(cv_metrics):\n",
    "    return cv_metrics.median()"
   ]
  },
  {
   "cell_type": "code",
   "execution_count": 18,
   "id": "ae71777a-7d95-45db-a498-c1f37baa5d31",
   "metadata": {},
   "outputs": [
    {
     "name": "stderr",
     "output_type": "stream",
     "text": [
      "/home/vivi/anaconda3/envs/iasa/lib/python3.10/site-packages/xgboost/data.py:250: FutureWarning: pandas.Int64Index is deprecated and will be removed from pandas in a future version. Use pandas.Index with the appropriate dtype instead.\n",
      "  elif isinstance(data.columns, (pd.Int64Index, pd.RangeIndex)):\n"
     ]
    },
    {
     "name": "stdout",
     "output_type": "stream",
     "text": [
      "(3722092229890.318, 0.18212036683290658, 0.9868471410801164, 0.01830149341573325) (3979874911920.808, 0.6448009961458047, 0.8691759954089687, 0.03458070914624031)\n"
     ]
    }
   ],
   "source": [
    "df = us\n",
    "model = XGBRegressor()\n",
    "\n",
    "train_metrics, test_metrics = get_fold_results(df, TARGET, kft_dict, 0, model)\n",
    "print(train_metrics, test_metrics)"
   ]
  },
  {
   "cell_type": "code",
   "execution_count": 20,
   "id": "76fc7c0b-8e40-460a-9d85-09be6b7cbe6d",
   "metadata": {},
   "outputs": [
    {
     "data": {
      "text/plain": [
       "array([], dtype=int64)"
      ]
     },
     "execution_count": 20,
     "metadata": {},
     "output_type": "execute_result"
    }
   ],
   "source": [
    "for i in range(10):\n",
    "    sep_dict = kft_dict[f'sep_{i}']\n",
    "    intersec = np.intersect1d(sep_dict['train'], sep_dict['valid'])\n",
    "    priont(intersec)"
   ]
  },
  {
   "cell_type": "code",
   "execution_count": 23,
   "id": "d219999c-3175-4fba-b8b6-d5e8641cfcfd",
   "metadata": {
    "tags": []
   },
   "outputs": [
    {
     "name": "stderr",
     "output_type": "stream",
     "text": [
      "/home/vivi/anaconda3/envs/iasa/lib/python3.10/site-packages/xgboost/data.py:250: FutureWarning: pandas.Int64Index is deprecated and will be removed from pandas in a future version. Use pandas.Index with the appropriate dtype instead.\n",
      "  elif isinstance(data.columns, (pd.Int64Index, pd.RangeIndex)):\n"
     ]
    },
    {
     "name": "stdout",
     "output_type": "stream",
     "text": [
      "Fold finished: 0\n"
     ]
    },
    {
     "name": "stderr",
     "output_type": "stream",
     "text": [
      "/home/vivi/anaconda3/envs/iasa/lib/python3.10/site-packages/xgboost/data.py:250: FutureWarning: pandas.Int64Index is deprecated and will be removed from pandas in a future version. Use pandas.Index with the appropriate dtype instead.\n",
      "  elif isinstance(data.columns, (pd.Int64Index, pd.RangeIndex)):\n"
     ]
    },
    {
     "name": "stdout",
     "output_type": "stream",
     "text": [
      "Fold finished: 1\n"
     ]
    },
    {
     "name": "stderr",
     "output_type": "stream",
     "text": [
      "/home/vivi/anaconda3/envs/iasa/lib/python3.10/site-packages/xgboost/data.py:250: FutureWarning: pandas.Int64Index is deprecated and will be removed from pandas in a future version. Use pandas.Index with the appropriate dtype instead.\n",
      "  elif isinstance(data.columns, (pd.Int64Index, pd.RangeIndex)):\n"
     ]
    },
    {
     "name": "stdout",
     "output_type": "stream",
     "text": [
      "Fold finished: 2\n"
     ]
    },
    {
     "name": "stderr",
     "output_type": "stream",
     "text": [
      "/home/vivi/anaconda3/envs/iasa/lib/python3.10/site-packages/xgboost/data.py:250: FutureWarning: pandas.Int64Index is deprecated and will be removed from pandas in a future version. Use pandas.Index with the appropriate dtype instead.\n",
      "  elif isinstance(data.columns, (pd.Int64Index, pd.RangeIndex)):\n"
     ]
    },
    {
     "name": "stdout",
     "output_type": "stream",
     "text": [
      "Fold finished: 3\n"
     ]
    },
    {
     "name": "stderr",
     "output_type": "stream",
     "text": [
      "/home/vivi/anaconda3/envs/iasa/lib/python3.10/site-packages/xgboost/data.py:250: FutureWarning: pandas.Int64Index is deprecated and will be removed from pandas in a future version. Use pandas.Index with the appropriate dtype instead.\n",
      "  elif isinstance(data.columns, (pd.Int64Index, pd.RangeIndex)):\n"
     ]
    },
    {
     "name": "stdout",
     "output_type": "stream",
     "text": [
      "Fold finished: 4\n"
     ]
    },
    {
     "name": "stderr",
     "output_type": "stream",
     "text": [
      "/home/vivi/anaconda3/envs/iasa/lib/python3.10/site-packages/xgboost/data.py:250: FutureWarning: pandas.Int64Index is deprecated and will be removed from pandas in a future version. Use pandas.Index with the appropriate dtype instead.\n",
      "  elif isinstance(data.columns, (pd.Int64Index, pd.RangeIndex)):\n"
     ]
    },
    {
     "name": "stdout",
     "output_type": "stream",
     "text": [
      "Fold finished: 5\n"
     ]
    },
    {
     "name": "stderr",
     "output_type": "stream",
     "text": [
      "/home/vivi/anaconda3/envs/iasa/lib/python3.10/site-packages/xgboost/data.py:250: FutureWarning: pandas.Int64Index is deprecated and will be removed from pandas in a future version. Use pandas.Index with the appropriate dtype instead.\n",
      "  elif isinstance(data.columns, (pd.Int64Index, pd.RangeIndex)):\n"
     ]
    },
    {
     "name": "stdout",
     "output_type": "stream",
     "text": [
      "Fold finished: 6\n"
     ]
    },
    {
     "name": "stderr",
     "output_type": "stream",
     "text": [
      "/home/vivi/anaconda3/envs/iasa/lib/python3.10/site-packages/xgboost/data.py:250: FutureWarning: pandas.Int64Index is deprecated and will be removed from pandas in a future version. Use pandas.Index with the appropriate dtype instead.\n",
      "  elif isinstance(data.columns, (pd.Int64Index, pd.RangeIndex)):\n"
     ]
    },
    {
     "name": "stdout",
     "output_type": "stream",
     "text": [
      "Fold finished: 7\n"
     ]
    },
    {
     "name": "stderr",
     "output_type": "stream",
     "text": [
      "/home/vivi/anaconda3/envs/iasa/lib/python3.10/site-packages/xgboost/data.py:250: FutureWarning: pandas.Int64Index is deprecated and will be removed from pandas in a future version. Use pandas.Index with the appropriate dtype instead.\n",
      "  elif isinstance(data.columns, (pd.Int64Index, pd.RangeIndex)):\n"
     ]
    },
    {
     "name": "stdout",
     "output_type": "stream",
     "text": [
      "Fold finished: 8\n"
     ]
    },
    {
     "name": "stderr",
     "output_type": "stream",
     "text": [
      "/home/vivi/anaconda3/envs/iasa/lib/python3.10/site-packages/xgboost/data.py:250: FutureWarning: pandas.Int64Index is deprecated and will be removed from pandas in a future version. Use pandas.Index with the appropriate dtype instead.\n",
      "  elif isinstance(data.columns, (pd.Int64Index, pd.RangeIndex)):\n"
     ]
    },
    {
     "name": "stdout",
     "output_type": "stream",
     "text": [
      "Fold finished: 9\n"
     ]
    },
    {
     "data": {
      "text/html": [
       "<div>\n",
       "<style scoped>\n",
       "    .dataframe tbody tr th:only-of-type {\n",
       "        vertical-align: middle;\n",
       "    }\n",
       "\n",
       "    .dataframe tbody tr th {\n",
       "        vertical-align: top;\n",
       "    }\n",
       "\n",
       "    .dataframe thead th {\n",
       "        text-align: right;\n",
       "    }\n",
       "</style>\n",
       "<table border=\"1\" class=\"dataframe\">\n",
       "  <thead>\n",
       "    <tr style=\"text-align: right;\">\n",
       "      <th></th>\n",
       "      <th>mape</th>\n",
       "      <th>rmse</th>\n",
       "      <th>r2</th>\n",
       "      <th>mae</th>\n",
       "    </tr>\n",
       "  </thead>\n",
       "  <tbody>\n",
       "    <tr>\n",
       "      <th>0</th>\n",
       "      <td>3.722092e+12</td>\n",
       "      <td>0.182120</td>\n",
       "      <td>0.986847</td>\n",
       "      <td>0.018301</td>\n",
       "    </tr>\n",
       "    <tr>\n",
       "      <th>1</th>\n",
       "      <td>3.840284e+12</td>\n",
       "      <td>0.182369</td>\n",
       "      <td>0.987434</td>\n",
       "      <td>0.018319</td>\n",
       "    </tr>\n",
       "    <tr>\n",
       "      <th>2</th>\n",
       "      <td>4.053226e+12</td>\n",
       "      <td>0.193278</td>\n",
       "      <td>0.985299</td>\n",
       "      <td>0.019164</td>\n",
       "    </tr>\n",
       "    <tr>\n",
       "      <th>3</th>\n",
       "      <td>3.843345e+12</td>\n",
       "      <td>0.186841</td>\n",
       "      <td>0.986825</td>\n",
       "      <td>0.018803</td>\n",
       "    </tr>\n",
       "    <tr>\n",
       "      <th>4</th>\n",
       "      <td>3.777879e+12</td>\n",
       "      <td>0.187102</td>\n",
       "      <td>0.986420</td>\n",
       "      <td>0.018609</td>\n",
       "    </tr>\n",
       "    <tr>\n",
       "      <th>5</th>\n",
       "      <td>3.512640e+12</td>\n",
       "      <td>0.182588</td>\n",
       "      <td>0.987235</td>\n",
       "      <td>0.018354</td>\n",
       "    </tr>\n",
       "    <tr>\n",
       "      <th>6</th>\n",
       "      <td>3.651777e+12</td>\n",
       "      <td>0.187346</td>\n",
       "      <td>0.986566</td>\n",
       "      <td>0.018369</td>\n",
       "    </tr>\n",
       "    <tr>\n",
       "      <th>7</th>\n",
       "      <td>3.691065e+12</td>\n",
       "      <td>0.178813</td>\n",
       "      <td>0.987540</td>\n",
       "      <td>0.017825</td>\n",
       "    </tr>\n",
       "    <tr>\n",
       "      <th>8</th>\n",
       "      <td>3.726996e+12</td>\n",
       "      <td>0.191824</td>\n",
       "      <td>0.985609</td>\n",
       "      <td>0.018840</td>\n",
       "    </tr>\n",
       "    <tr>\n",
       "      <th>9</th>\n",
       "      <td>3.396788e+12</td>\n",
       "      <td>0.190954</td>\n",
       "      <td>0.985917</td>\n",
       "      <td>0.019033</td>\n",
       "    </tr>\n",
       "  </tbody>\n",
       "</table>\n",
       "</div>"
      ],
      "text/plain": [
       "           mape      rmse        r2       mae\n",
       "0  3.722092e+12  0.182120  0.986847  0.018301\n",
       "1  3.840284e+12  0.182369  0.987434  0.018319\n",
       "2  4.053226e+12  0.193278  0.985299  0.019164\n",
       "3  3.843345e+12  0.186841  0.986825  0.018803\n",
       "4  3.777879e+12  0.187102  0.986420  0.018609\n",
       "5  3.512640e+12  0.182588  0.987235  0.018354\n",
       "6  3.651777e+12  0.187346  0.986566  0.018369\n",
       "7  3.691065e+12  0.178813  0.987540  0.017825\n",
       "8  3.726996e+12  0.191824  0.985609  0.018840\n",
       "9  3.396788e+12  0.190954  0.985917  0.019033"
      ]
     },
     "metadata": {},
     "output_type": "display_data"
    },
    {
     "data": {
      "text/html": [
       "<div>\n",
       "<style scoped>\n",
       "    .dataframe tbody tr th:only-of-type {\n",
       "        vertical-align: middle;\n",
       "    }\n",
       "\n",
       "    .dataframe tbody tr th {\n",
       "        vertical-align: top;\n",
       "    }\n",
       "\n",
       "    .dataframe thead th {\n",
       "        text-align: right;\n",
       "    }\n",
       "</style>\n",
       "<table border=\"1\" class=\"dataframe\">\n",
       "  <thead>\n",
       "    <tr style=\"text-align: right;\">\n",
       "      <th></th>\n",
       "      <th>mape</th>\n",
       "      <th>rmse</th>\n",
       "      <th>r2</th>\n",
       "      <th>mae</th>\n",
       "    </tr>\n",
       "  </thead>\n",
       "  <tbody>\n",
       "    <tr>\n",
       "      <th>0</th>\n",
       "      <td>3.979875e+12</td>\n",
       "      <td>0.644801</td>\n",
       "      <td>0.869176</td>\n",
       "      <td>0.034581</td>\n",
       "    </tr>\n",
       "    <tr>\n",
       "      <th>1</th>\n",
       "      <td>3.972973e+12</td>\n",
       "      <td>0.711309</td>\n",
       "      <td>0.753497</td>\n",
       "      <td>0.038584</td>\n",
       "    </tr>\n",
       "    <tr>\n",
       "      <th>2</th>\n",
       "      <td>4.566545e+12</td>\n",
       "      <td>0.683963</td>\n",
       "      <td>0.844234</td>\n",
       "      <td>0.037009</td>\n",
       "    </tr>\n",
       "    <tr>\n",
       "      <th>3</th>\n",
       "      <td>4.314064e+12</td>\n",
       "      <td>0.496247</td>\n",
       "      <td>0.878517</td>\n",
       "      <td>0.033630</td>\n",
       "    </tr>\n",
       "    <tr>\n",
       "      <th>4</th>\n",
       "      <td>4.648066e+12</td>\n",
       "      <td>0.869964</td>\n",
       "      <td>0.716915</td>\n",
       "      <td>0.037036</td>\n",
       "    </tr>\n",
       "    <tr>\n",
       "      <th>5</th>\n",
       "      <td>4.461650e+12</td>\n",
       "      <td>0.627683</td>\n",
       "      <td>0.833607</td>\n",
       "      <td>0.035901</td>\n",
       "    </tr>\n",
       "    <tr>\n",
       "      <th>6</th>\n",
       "      <td>3.356950e+12</td>\n",
       "      <td>0.625524</td>\n",
       "      <td>0.834214</td>\n",
       "      <td>0.035056</td>\n",
       "    </tr>\n",
       "    <tr>\n",
       "      <th>7</th>\n",
       "      <td>6.641512e+12</td>\n",
       "      <td>0.585219</td>\n",
       "      <td>0.876706</td>\n",
       "      <td>0.036155</td>\n",
       "    </tr>\n",
       "    <tr>\n",
       "      <th>8</th>\n",
       "      <td>4.339393e+12</td>\n",
       "      <td>0.580003</td>\n",
       "      <td>0.882457</td>\n",
       "      <td>0.036787</td>\n",
       "    </tr>\n",
       "    <tr>\n",
       "      <th>9</th>\n",
       "      <td>3.465544e+12</td>\n",
       "      <td>0.877536</td>\n",
       "      <td>0.700500</td>\n",
       "      <td>0.036365</td>\n",
       "    </tr>\n",
       "  </tbody>\n",
       "</table>\n",
       "</div>"
      ],
      "text/plain": [
       "           mape      rmse        r2       mae\n",
       "0  3.979875e+12  0.644801  0.869176  0.034581\n",
       "1  3.972973e+12  0.711309  0.753497  0.038584\n",
       "2  4.566545e+12  0.683963  0.844234  0.037009\n",
       "3  4.314064e+12  0.496247  0.878517  0.033630\n",
       "4  4.648066e+12  0.869964  0.716915  0.037036\n",
       "5  4.461650e+12  0.627683  0.833607  0.035901\n",
       "6  3.356950e+12  0.625524  0.834214  0.035056\n",
       "7  6.641512e+12  0.585219  0.876706  0.036155\n",
       "8  4.339393e+12  0.580003  0.882457  0.036787\n",
       "9  3.465544e+12  0.877536  0.700500  0.036365"
      ]
     },
     "metadata": {},
     "output_type": "display_data"
    },
    {
     "data": {
      "text/plain": [
       "mape    3.724544e+12\n",
       "rmse    1.869711e-01\n",
       "r2      9.866952e-01\n",
       "mae     1.848878e-02\n",
       "dtype: float64"
      ]
     },
     "metadata": {},
     "output_type": "display_data"
    },
    {
     "data": {
      "text/plain": [
       "mape    4.326729e+12\n",
       "rmse    6.362419e-01\n",
       "r2      8.392238e-01\n",
       "mae     3.625961e-02\n",
       "dtype: float64"
      ]
     },
     "metadata": {},
     "output_type": "display_data"
    }
   ],
   "source": [
    "df = us\n",
    "model = XGBRegressor()\n",
    "\n",
    "train_cv_metrics, test_cv_metrics = get_cv_results(df, TARGET, kft_dict, model)\n",
    "display(train_cv_metrics)\n",
    "display(test_cv_metrics)\n",
    "train_agg_metrics = get_agg_metrics(train_cv_metrics)\n",
    "test_agg_metrics = get_agg_metrics(test_cv_metrics)\n",
    "display(train_agg_metrics)\n",
    "display(test_agg_metrics)"
   ]
  },
  {
   "cell_type": "code",
   "execution_count": 10,
   "id": "00d6a0be-14de-4926-807c-19ed0daf81d0",
   "metadata": {},
   "outputs": [],
   "source": [
    "RANDOMSTATE = 10\n",
    "NUM_SAMPLES = 2\n",
    "MAX_CONCURRENT_TRIALS = 1\n",
    "VERBOSE = 1\n",
    "df = us\n",
    "\n",
    "search_space = {\n",
    "    \"n_estimators\": tune.loguniform(100, 10000),\n",
    "    \"max_depth\": tune.randint(0, 5),\n",
    "    \"subsample\": tune.quniform(0.25, 0.75, 0.01),\n",
    "    \"colsample_bytree\": tune.quniform(0.05, 0.5, 0.01),\n",
    "    \"colsample_bylevel\": tune.quniform(0.05, 0.5, 0.01),    \n",
    "    \"learning_rate\": tune.quniform(-3.0, -1.0, 0.5) # pows of 10\n",
    "}\n",
    "\n",
    "def objective(config):\n",
    "    config['n_estimators'] = int(config['n_estimators'])\n",
    "    config['max_depth'] = int(config['max_depth']) + 2\n",
    "    config['learning_rate'] = 10 ** config['learning_rate']\n",
    "    \n",
    "    model = XGBRegressor(\n",
    "        random_state=RANDOMSTATE,\n",
    "        booster='gbtree',\n",
    "        scale_pos_weight=1,\n",
    "        **config\n",
    "    )\n",
    "    _, test_cv_metrics = get_cv_results(df, TARGET, kft_dict, model)\n",
    "    test_agg_metrics = get_agg_metrics(test_cv_metrics)\n",
    "    rmse = test_agg_metrics['rmse']\n",
    "    \n",
    "    tune.report(rmse)\n",
    "    \n",
    "    return {\"rmse\": rmse}\n",
    "\n",
    "algo = HyperOptSearch(random_state_seed=RANDOMSTATE)\n",
    "\n",
    "scheduler = ASHAScheduler()\n",
    "\n",
    "tuner = tune.Tuner(objective,\n",
    "               param_space=search_space,\n",
    "               tune_config=tune.TuneConfig(\n",
    "                    num_samples=NUM_SAMPLES,\n",
    "                    search_alg=algo,\n",
    "                    scheduler=scheduler,\n",
    "                    metric=\"rmse\",\n",
    "                    mode=\"min\",\n",
    "                    max_concurrent_trials=MAX_CONCURRENT_TRIALS\n",
    "               ),\n",
    "                run_config=RunConfig(\n",
    "                    verbose=VERBOSE,\n",
    "                    name=\"hyperopt_xgb\",\n",
    "                    local_dir=\"~/tune_results\"\n",
    "                ))"
   ]
  },
  {
   "cell_type": "code",
   "execution_count": 11,
   "id": "49a17268-2b3a-40eb-90a4-19c0757ddf96",
   "metadata": {
    "collapsed": true,
    "jupyter": {
     "outputs_hidden": true
    },
    "tags": []
   },
   "outputs": [
    {
     "ename": "TuneError",
     "evalue": "Tune run failed. Please use tuner = Tuner.restore(\"/home/vivi/tune_results/hyperopt_xgb\") to resume.",
     "output_type": "error",
     "traceback": [
      "\u001b[0;31m---------------------------------------------------------------------------\u001b[0m",
      "\u001b[0;31m_InactiveRpcError\u001b[0m                         Traceback (most recent call last)",
      "File \u001b[0;32m~/anaconda3/envs/iasa/lib/python3.10/site-packages/ray/tune/experiment/experiment.py:163\u001b[0m, in \u001b[0;36mExperiment.__init__\u001b[0;34m(self, name, run, stop, time_budget_s, config, resources_per_trial, num_samples, local_dir, _experiment_checkpoint_dir, sync_config, trial_name_creator, trial_dirname_creator, log_to_file, checkpoint_freq, checkpoint_at_end, keep_checkpoints_num, checkpoint_score_attr, export_formats, max_failures, restore)\u001b[0m\n\u001b[1;32m    162\u001b[0m \u001b[38;5;28;01mtry\u001b[39;00m:\n\u001b[0;32m--> 163\u001b[0m     \u001b[38;5;28mself\u001b[39m\u001b[38;5;241m.\u001b[39m_run_identifier \u001b[38;5;241m=\u001b[39m \u001b[43mExperiment\u001b[49m\u001b[38;5;241;43m.\u001b[39;49m\u001b[43mregister_if_needed\u001b[49m\u001b[43m(\u001b[49m\u001b[43mrun\u001b[49m\u001b[43m)\u001b[49m\n\u001b[1;32m    164\u001b[0m \u001b[38;5;28;01mexcept\u001b[39;00m grpc\u001b[38;5;241m.\u001b[39mRpcError \u001b[38;5;28;01mas\u001b[39;00m e:\n",
      "File \u001b[0;32m~/anaconda3/envs/iasa/lib/python3.10/site-packages/ray/tune/experiment/experiment.py:356\u001b[0m, in \u001b[0;36mExperiment.register_if_needed\u001b[0;34m(cls, run_object)\u001b[0m\n\u001b[1;32m    355\u001b[0m \u001b[38;5;28;01mtry\u001b[39;00m:\n\u001b[0;32m--> 356\u001b[0m     \u001b[43mregister_trainable\u001b[49m\u001b[43m(\u001b[49m\u001b[43mname\u001b[49m\u001b[43m,\u001b[49m\u001b[43m \u001b[49m\u001b[43mrun_object\u001b[49m\u001b[43m)\u001b[49m\n\u001b[1;32m    357\u001b[0m \u001b[38;5;28;01mexcept\u001b[39;00m (\u001b[38;5;167;01mTypeError\u001b[39;00m, PicklingError) \u001b[38;5;28;01mas\u001b[39;00m e:\n",
      "File \u001b[0;32m~/anaconda3/envs/iasa/lib/python3.10/site-packages/ray/tune/registry.py:101\u001b[0m, in \u001b[0;36mregister_trainable\u001b[0;34m(name, trainable, warn)\u001b[0m\n\u001b[1;32m    100\u001b[0m     \u001b[38;5;28;01mraise\u001b[39;00m \u001b[38;5;167;01mTypeError\u001b[39;00m(\u001b[38;5;124m\"\u001b[39m\u001b[38;5;124mSecond argument must be convertable to Trainable\u001b[39m\u001b[38;5;124m\"\u001b[39m, trainable)\n\u001b[0;32m--> 101\u001b[0m \u001b[43m_global_registry\u001b[49m\u001b[38;5;241;43m.\u001b[39;49m\u001b[43mregister\u001b[49m\u001b[43m(\u001b[49m\u001b[43mTRAINABLE_CLASS\u001b[49m\u001b[43m,\u001b[49m\u001b[43m \u001b[49m\u001b[43mname\u001b[49m\u001b[43m,\u001b[49m\u001b[43m \u001b[49m\u001b[43mtrainable\u001b[49m\u001b[43m)\u001b[49m\n",
      "File \u001b[0;32m~/anaconda3/envs/iasa/lib/python3.10/site-packages/ray/tune/registry.py:189\u001b[0m, in \u001b[0;36m_Registry.register\u001b[0;34m(self, category, key, value)\u001b[0m\n\u001b[1;32m    188\u001b[0m \u001b[38;5;28;01mif\u001b[39;00m _internal_kv_initialized():\n\u001b[0;32m--> 189\u001b[0m     \u001b[38;5;28;43mself\u001b[39;49m\u001b[38;5;241;43m.\u001b[39;49m\u001b[43mflush_values\u001b[49m\u001b[43m(\u001b[49m\u001b[43m)\u001b[49m\n",
      "File \u001b[0;32m~/anaconda3/envs/iasa/lib/python3.10/site-packages/ray/tune/registry.py:211\u001b[0m, in \u001b[0;36m_Registry.flush_values\u001b[0;34m(self)\u001b[0m\n\u001b[1;32m    210\u001b[0m \u001b[38;5;28;01mfor\u001b[39;00m (category, key), value \u001b[38;5;129;01min\u001b[39;00m \u001b[38;5;28mself\u001b[39m\u001b[38;5;241m.\u001b[39m_to_flush\u001b[38;5;241m.\u001b[39mitems():\n\u001b[0;32m--> 211\u001b[0m     \u001b[43m_internal_kv_put\u001b[49m\u001b[43m(\u001b[49m\n\u001b[1;32m    212\u001b[0m \u001b[43m        \u001b[49m\u001b[43m_make_key\u001b[49m\u001b[43m(\u001b[49m\u001b[38;5;28;43mself\u001b[39;49m\u001b[38;5;241;43m.\u001b[39;49m\u001b[43m_prefix\u001b[49m\u001b[43m,\u001b[49m\u001b[43m \u001b[49m\u001b[43mcategory\u001b[49m\u001b[43m,\u001b[49m\u001b[43m \u001b[49m\u001b[43mkey\u001b[49m\u001b[43m)\u001b[49m\u001b[43m,\u001b[49m\u001b[43m \u001b[49m\u001b[43mvalue\u001b[49m\u001b[43m,\u001b[49m\u001b[43m \u001b[49m\u001b[43moverwrite\u001b[49m\u001b[38;5;241;43m=\u001b[39;49m\u001b[38;5;28;43;01mTrue\u001b[39;49;00m\n\u001b[1;32m    213\u001b[0m \u001b[43m    \u001b[49m\u001b[43m)\u001b[49m\n\u001b[1;32m    214\u001b[0m \u001b[38;5;28mself\u001b[39m\u001b[38;5;241m.\u001b[39m_to_flush\u001b[38;5;241m.\u001b[39mclear()\n",
      "File \u001b[0;32m~/anaconda3/envs/iasa/lib/python3.10/site-packages/ray/_private/client_mode_hook.py:105\u001b[0m, in \u001b[0;36mclient_mode_hook.<locals>.wrapper\u001b[0;34m(*args, **kwargs)\u001b[0m\n\u001b[1;32m    104\u001b[0m         \u001b[38;5;28;01mreturn\u001b[39;00m \u001b[38;5;28mgetattr\u001b[39m(ray, func\u001b[38;5;241m.\u001b[39m\u001b[38;5;18m__name__\u001b[39m)(\u001b[38;5;241m*\u001b[39margs, \u001b[38;5;241m*\u001b[39m\u001b[38;5;241m*\u001b[39mkwargs)\n\u001b[0;32m--> 105\u001b[0m \u001b[38;5;28;01mreturn\u001b[39;00m \u001b[43mfunc\u001b[49m\u001b[43m(\u001b[49m\u001b[38;5;241;43m*\u001b[39;49m\u001b[43margs\u001b[49m\u001b[43m,\u001b[49m\u001b[43m \u001b[49m\u001b[38;5;241;43m*\u001b[39;49m\u001b[38;5;241;43m*\u001b[39;49m\u001b[43mkwargs\u001b[49m\u001b[43m)\u001b[49m\n",
      "File \u001b[0;32m~/anaconda3/envs/iasa/lib/python3.10/site-packages/ray/experimental/internal_kv.py:94\u001b[0m, in \u001b[0;36m_internal_kv_put\u001b[0;34m(key, value, overwrite, namespace)\u001b[0m\n\u001b[1;32m     89\u001b[0m \u001b[38;5;28;01massert\u001b[39;00m (\n\u001b[1;32m     90\u001b[0m     \u001b[38;5;28misinstance\u001b[39m(key, \u001b[38;5;28mbytes\u001b[39m)\n\u001b[1;32m     91\u001b[0m     \u001b[38;5;129;01mand\u001b[39;00m \u001b[38;5;28misinstance\u001b[39m(value, \u001b[38;5;28mbytes\u001b[39m)\n\u001b[1;32m     92\u001b[0m     \u001b[38;5;129;01mand\u001b[39;00m \u001b[38;5;28misinstance\u001b[39m(overwrite, \u001b[38;5;28mbool\u001b[39m)\n\u001b[1;32m     93\u001b[0m )\n\u001b[0;32m---> 94\u001b[0m \u001b[38;5;28;01mreturn\u001b[39;00m \u001b[43mglobal_gcs_client\u001b[49m\u001b[38;5;241;43m.\u001b[39;49m\u001b[43minternal_kv_put\u001b[49m\u001b[43m(\u001b[49m\u001b[43mkey\u001b[49m\u001b[43m,\u001b[49m\u001b[43m \u001b[49m\u001b[43mvalue\u001b[49m\u001b[43m,\u001b[49m\u001b[43m \u001b[49m\u001b[43moverwrite\u001b[49m\u001b[43m,\u001b[49m\u001b[43m \u001b[49m\u001b[43mnamespace\u001b[49m\u001b[43m)\u001b[49m \u001b[38;5;241m==\u001b[39m \u001b[38;5;241m0\u001b[39m\n",
      "File \u001b[0;32m~/anaconda3/envs/iasa/lib/python3.10/site-packages/ray/_private/gcs_utils.py:177\u001b[0m, in \u001b[0;36m_auto_reconnect.<locals>.wrapper\u001b[0;34m(self, *args, **kwargs)\u001b[0m\n\u001b[1;32m    176\u001b[0m \u001b[38;5;28;01mtry\u001b[39;00m:\n\u001b[0;32m--> 177\u001b[0m     \u001b[38;5;28;01mreturn\u001b[39;00m \u001b[43mf\u001b[49m\u001b[43m(\u001b[49m\u001b[38;5;28;43mself\u001b[39;49m\u001b[43m,\u001b[49m\u001b[43m \u001b[49m\u001b[38;5;241;43m*\u001b[39;49m\u001b[43margs\u001b[49m\u001b[43m,\u001b[49m\u001b[43m \u001b[49m\u001b[38;5;241;43m*\u001b[39;49m\u001b[38;5;241;43m*\u001b[39;49m\u001b[43mkwargs\u001b[49m\u001b[43m)\u001b[49m\n\u001b[1;32m    178\u001b[0m \u001b[38;5;28;01mexcept\u001b[39;00m grpc\u001b[38;5;241m.\u001b[39mRpcError \u001b[38;5;28;01mas\u001b[39;00m e:\n",
      "File \u001b[0;32m~/anaconda3/envs/iasa/lib/python3.10/site-packages/ray/_private/gcs_utils.py:296\u001b[0m, in \u001b[0;36mGcsClient.internal_kv_put\u001b[0;34m(self, key, value, overwrite, namespace, timeout)\u001b[0m\n\u001b[1;32m    290\u001b[0m req \u001b[38;5;241m=\u001b[39m gcs_service_pb2\u001b[38;5;241m.\u001b[39mInternalKVPutRequest(\n\u001b[1;32m    291\u001b[0m     namespace\u001b[38;5;241m=\u001b[39mnamespace,\n\u001b[1;32m    292\u001b[0m     key\u001b[38;5;241m=\u001b[39mkey,\n\u001b[1;32m    293\u001b[0m     value\u001b[38;5;241m=\u001b[39mvalue,\n\u001b[1;32m    294\u001b[0m     overwrite\u001b[38;5;241m=\u001b[39moverwrite,\n\u001b[1;32m    295\u001b[0m )\n\u001b[0;32m--> 296\u001b[0m reply \u001b[38;5;241m=\u001b[39m \u001b[38;5;28;43mself\u001b[39;49m\u001b[38;5;241;43m.\u001b[39;49m\u001b[43m_kv_stub\u001b[49m\u001b[38;5;241;43m.\u001b[39;49m\u001b[43mInternalKVPut\u001b[49m\u001b[43m(\u001b[49m\u001b[43mreq\u001b[49m\u001b[43m,\u001b[49m\u001b[43m \u001b[49m\u001b[43mtimeout\u001b[49m\u001b[38;5;241;43m=\u001b[39;49m\u001b[43mtimeout\u001b[49m\u001b[43m)\u001b[49m\n\u001b[1;32m    297\u001b[0m \u001b[38;5;28;01mif\u001b[39;00m reply\u001b[38;5;241m.\u001b[39mstatus\u001b[38;5;241m.\u001b[39mcode \u001b[38;5;241m==\u001b[39m GcsCode\u001b[38;5;241m.\u001b[39mOK:\n",
      "File \u001b[0;32m~/anaconda3/envs/iasa/lib/python3.10/site-packages/grpc/_channel.py:946\u001b[0m, in \u001b[0;36m_UnaryUnaryMultiCallable.__call__\u001b[0;34m(self, request, timeout, metadata, credentials, wait_for_ready, compression)\u001b[0m\n\u001b[1;32m    944\u001b[0m state, call, \u001b[38;5;241m=\u001b[39m \u001b[38;5;28mself\u001b[39m\u001b[38;5;241m.\u001b[39m_blocking(request, timeout, metadata, credentials,\n\u001b[1;32m    945\u001b[0m                               wait_for_ready, compression)\n\u001b[0;32m--> 946\u001b[0m \u001b[38;5;28;01mreturn\u001b[39;00m \u001b[43m_end_unary_response_blocking\u001b[49m\u001b[43m(\u001b[49m\u001b[43mstate\u001b[49m\u001b[43m,\u001b[49m\u001b[43m \u001b[49m\u001b[43mcall\u001b[49m\u001b[43m,\u001b[49m\u001b[43m \u001b[49m\u001b[38;5;28;43;01mFalse\u001b[39;49;00m\u001b[43m,\u001b[49m\u001b[43m \u001b[49m\u001b[38;5;28;43;01mNone\u001b[39;49;00m\u001b[43m)\u001b[49m\n",
      "File \u001b[0;32m~/anaconda3/envs/iasa/lib/python3.10/site-packages/grpc/_channel.py:849\u001b[0m, in \u001b[0;36m_end_unary_response_blocking\u001b[0;34m(state, call, with_call, deadline)\u001b[0m\n\u001b[1;32m    848\u001b[0m \u001b[38;5;28;01melse\u001b[39;00m:\n\u001b[0;32m--> 849\u001b[0m     \u001b[38;5;28;01mraise\u001b[39;00m _InactiveRpcError(state)\n",
      "\u001b[0;31m_InactiveRpcError\u001b[0m: <_InactiveRpcError of RPC that terminated with:\n\tstatus = StatusCode.RESOURCE_EXHAUSTED\n\tdetails = \"Received message larger than max (459694706 vs. 262144000)\"\n\tdebug_error_string = \"{\"created\":\"@1662808044.796213431\",\"description\":\"Error received from peer ipv4:192.168.1.110:57117\",\"file\":\"src/core/lib/surface/call.cc\",\"file_line\":1074,\"grpc_message\":\"Received message larger than max (459694706 vs. 262144000)\",\"grpc_status\":8}\"\n>",
      "\nDuring handling of the above exception, another exception occurred:\n",
      "\u001b[0;31mTuneError\u001b[0m                                 Traceback (most recent call last)",
      "File \u001b[0;32m~/anaconda3/envs/iasa/lib/python3.10/site-packages/ray/tune/tuner.py:234\u001b[0m, in \u001b[0;36mTuner.fit\u001b[0;34m(self)\u001b[0m\n\u001b[1;32m    233\u001b[0m \u001b[38;5;28;01mtry\u001b[39;00m:\n\u001b[0;32m--> 234\u001b[0m     \u001b[38;5;28;01mreturn\u001b[39;00m \u001b[38;5;28;43mself\u001b[39;49m\u001b[38;5;241;43m.\u001b[39;49m\u001b[43m_local_tuner\u001b[49m\u001b[38;5;241;43m.\u001b[39;49m\u001b[43mfit\u001b[49m\u001b[43m(\u001b[49m\u001b[43m)\u001b[49m\n\u001b[1;32m    235\u001b[0m \u001b[38;5;28;01mexcept\u001b[39;00m \u001b[38;5;167;01mException\u001b[39;00m \u001b[38;5;28;01mas\u001b[39;00m e:\n",
      "File \u001b[0;32m~/anaconda3/envs/iasa/lib/python3.10/site-packages/ray/tune/impl/tuner_internal.py:283\u001b[0m, in \u001b[0;36mTunerInternal.fit\u001b[0;34m(self)\u001b[0m\n\u001b[1;32m    282\u001b[0m     param_space \u001b[38;5;241m=\u001b[39m copy\u001b[38;5;241m.\u001b[39mdeepcopy(\u001b[38;5;28mself\u001b[39m\u001b[38;5;241m.\u001b[39m_param_space)\n\u001b[0;32m--> 283\u001b[0m     analysis \u001b[38;5;241m=\u001b[39m \u001b[38;5;28;43mself\u001b[39;49m\u001b[38;5;241;43m.\u001b[39;49m\u001b[43m_fit_internal\u001b[49m\u001b[43m(\u001b[49m\u001b[43mtrainable\u001b[49m\u001b[43m,\u001b[49m\u001b[43m \u001b[49m\u001b[43mparam_space\u001b[49m\u001b[43m)\u001b[49m\n\u001b[1;32m    284\u001b[0m \u001b[38;5;28;01melse\u001b[39;00m:\n",
      "File \u001b[0;32m~/anaconda3/envs/iasa/lib/python3.10/site-packages/ray/tune/impl/tuner_internal.py:380\u001b[0m, in \u001b[0;36mTunerInternal._fit_internal\u001b[0;34m(self, trainable, param_space)\u001b[0m\n\u001b[1;32m    367\u001b[0m args \u001b[38;5;241m=\u001b[39m {\n\u001b[1;32m    368\u001b[0m     \u001b[38;5;241m*\u001b[39m\u001b[38;5;241m*\u001b[39m\u001b[38;5;28mself\u001b[39m\u001b[38;5;241m.\u001b[39m_get_tune_run_arguments(trainable),\n\u001b[1;32m    369\u001b[0m     \u001b[38;5;241m*\u001b[39m\u001b[38;5;241m*\u001b[39m\u001b[38;5;28mdict\u001b[39m(\n\u001b[0;32m   (...)\u001b[0m\n\u001b[1;32m    378\u001b[0m     \u001b[38;5;241m*\u001b[39m\u001b[38;5;241m*\u001b[39m\u001b[38;5;28mself\u001b[39m\u001b[38;5;241m.\u001b[39m_tuner_kwargs,\n\u001b[1;32m    379\u001b[0m }\n\u001b[0;32m--> 380\u001b[0m analysis \u001b[38;5;241m=\u001b[39m \u001b[43mrun\u001b[49m\u001b[43m(\u001b[49m\n\u001b[1;32m    381\u001b[0m \u001b[43m    \u001b[49m\u001b[38;5;241;43m*\u001b[39;49m\u001b[38;5;241;43m*\u001b[39;49m\u001b[43margs\u001b[49m\u001b[43m,\u001b[49m\n\u001b[1;32m    382\u001b[0m \u001b[43m\u001b[49m\u001b[43m)\u001b[49m\n\u001b[1;32m    383\u001b[0m \u001b[38;5;28;01mreturn\u001b[39;00m analysis\n",
      "File \u001b[0;32m~/anaconda3/envs/iasa/lib/python3.10/site-packages/ray/tune/tune.py:520\u001b[0m, in \u001b[0;36mrun\u001b[0;34m(run_or_experiment, name, metric, mode, stop, time_budget_s, config, resources_per_trial, num_samples, local_dir, search_alg, scheduler, keep_checkpoints_num, checkpoint_score_attr, checkpoint_freq, checkpoint_at_end, verbose, progress_reporter, log_to_file, trial_name_creator, trial_dirname_creator, sync_config, export_formats, max_failures, fail_fast, restore, server_port, resume, reuse_actors, trial_executor, raise_on_failed_trial, callbacks, max_concurrent_trials, _experiment_checkpoint_dir, _remote)\u001b[0m\n\u001b[1;32m    519\u001b[0m     \u001b[38;5;28;01mif\u001b[39;00m \u001b[38;5;129;01mnot\u001b[39;00m \u001b[38;5;28misinstance\u001b[39m(exp, Experiment):\n\u001b[0;32m--> 520\u001b[0m         experiments[i] \u001b[38;5;241m=\u001b[39m \u001b[43mExperiment\u001b[49m\u001b[43m(\u001b[49m\n\u001b[1;32m    521\u001b[0m \u001b[43m            \u001b[49m\u001b[43mname\u001b[49m\u001b[38;5;241;43m=\u001b[39;49m\u001b[43mname\u001b[49m\u001b[43m,\u001b[49m\n\u001b[1;32m    522\u001b[0m \u001b[43m            \u001b[49m\u001b[43mrun\u001b[49m\u001b[38;5;241;43m=\u001b[39;49m\u001b[43mexp\u001b[49m\u001b[43m,\u001b[49m\n\u001b[1;32m    523\u001b[0m \u001b[43m            \u001b[49m\u001b[43mstop\u001b[49m\u001b[38;5;241;43m=\u001b[39;49m\u001b[43mstop\u001b[49m\u001b[43m,\u001b[49m\n\u001b[1;32m    524\u001b[0m \u001b[43m            \u001b[49m\u001b[43mtime_budget_s\u001b[49m\u001b[38;5;241;43m=\u001b[39;49m\u001b[43mtime_budget_s\u001b[49m\u001b[43m,\u001b[49m\n\u001b[1;32m    525\u001b[0m \u001b[43m            \u001b[49m\u001b[43mconfig\u001b[49m\u001b[38;5;241;43m=\u001b[39;49m\u001b[43mconfig\u001b[49m\u001b[43m,\u001b[49m\n\u001b[1;32m    526\u001b[0m \u001b[43m            \u001b[49m\u001b[43mresources_per_trial\u001b[49m\u001b[38;5;241;43m=\u001b[39;49m\u001b[43mresources_per_trial\u001b[49m\u001b[43m,\u001b[49m\n\u001b[1;32m    527\u001b[0m \u001b[43m            \u001b[49m\u001b[43mnum_samples\u001b[49m\u001b[38;5;241;43m=\u001b[39;49m\u001b[43mnum_samples\u001b[49m\u001b[43m,\u001b[49m\n\u001b[1;32m    528\u001b[0m \u001b[43m            \u001b[49m\u001b[43mlocal_dir\u001b[49m\u001b[38;5;241;43m=\u001b[39;49m\u001b[43mlocal_dir\u001b[49m\u001b[43m,\u001b[49m\n\u001b[1;32m    529\u001b[0m \u001b[43m            \u001b[49m\u001b[43m_experiment_checkpoint_dir\u001b[49m\u001b[38;5;241;43m=\u001b[39;49m\u001b[43m_experiment_checkpoint_dir\u001b[49m\u001b[43m,\u001b[49m\n\u001b[1;32m    530\u001b[0m \u001b[43m            \u001b[49m\u001b[43msync_config\u001b[49m\u001b[38;5;241;43m=\u001b[39;49m\u001b[43msync_config\u001b[49m\u001b[43m,\u001b[49m\n\u001b[1;32m    531\u001b[0m \u001b[43m            \u001b[49m\u001b[43mtrial_name_creator\u001b[49m\u001b[38;5;241;43m=\u001b[39;49m\u001b[43mtrial_name_creator\u001b[49m\u001b[43m,\u001b[49m\n\u001b[1;32m    532\u001b[0m \u001b[43m            \u001b[49m\u001b[43mtrial_dirname_creator\u001b[49m\u001b[38;5;241;43m=\u001b[39;49m\u001b[43mtrial_dirname_creator\u001b[49m\u001b[43m,\u001b[49m\n\u001b[1;32m    533\u001b[0m \u001b[43m            \u001b[49m\u001b[43mlog_to_file\u001b[49m\u001b[38;5;241;43m=\u001b[39;49m\u001b[43mlog_to_file\u001b[49m\u001b[43m,\u001b[49m\n\u001b[1;32m    534\u001b[0m \u001b[43m            \u001b[49m\u001b[43mcheckpoint_freq\u001b[49m\u001b[38;5;241;43m=\u001b[39;49m\u001b[43mcheckpoint_freq\u001b[49m\u001b[43m,\u001b[49m\n\u001b[1;32m    535\u001b[0m \u001b[43m            \u001b[49m\u001b[43mcheckpoint_at_end\u001b[49m\u001b[38;5;241;43m=\u001b[39;49m\u001b[43mcheckpoint_at_end\u001b[49m\u001b[43m,\u001b[49m\n\u001b[1;32m    536\u001b[0m \u001b[43m            \u001b[49m\u001b[43mkeep_checkpoints_num\u001b[49m\u001b[38;5;241;43m=\u001b[39;49m\u001b[43mkeep_checkpoints_num\u001b[49m\u001b[43m,\u001b[49m\n\u001b[1;32m    537\u001b[0m \u001b[43m            \u001b[49m\u001b[43mcheckpoint_score_attr\u001b[49m\u001b[38;5;241;43m=\u001b[39;49m\u001b[43mcheckpoint_score_attr\u001b[49m\u001b[43m,\u001b[49m\n\u001b[1;32m    538\u001b[0m \u001b[43m            \u001b[49m\u001b[43mexport_formats\u001b[49m\u001b[38;5;241;43m=\u001b[39;49m\u001b[43mexport_formats\u001b[49m\u001b[43m,\u001b[49m\n\u001b[1;32m    539\u001b[0m \u001b[43m            \u001b[49m\u001b[43mmax_failures\u001b[49m\u001b[38;5;241;43m=\u001b[39;49m\u001b[43mmax_failures\u001b[49m\u001b[43m,\u001b[49m\n\u001b[1;32m    540\u001b[0m \u001b[43m            \u001b[49m\u001b[43mrestore\u001b[49m\u001b[38;5;241;43m=\u001b[39;49m\u001b[43mrestore\u001b[49m\u001b[43m,\u001b[49m\n\u001b[1;32m    541\u001b[0m \u001b[43m        \u001b[49m\u001b[43m)\u001b[49m\n\u001b[1;32m    542\u001b[0m \u001b[38;5;28;01melse\u001b[39;00m:\n",
      "File \u001b[0;32m~/anaconda3/envs/iasa/lib/python3.10/site-packages/ray/tune/experiment/experiment.py:166\u001b[0m, in \u001b[0;36mExperiment.__init__\u001b[0;34m(self, name, run, stop, time_budget_s, config, resources_per_trial, num_samples, local_dir, _experiment_checkpoint_dir, sync_config, trial_name_creator, trial_dirname_creator, log_to_file, checkpoint_freq, checkpoint_at_end, keep_checkpoints_num, checkpoint_score_attr, export_formats, max_failures, restore)\u001b[0m\n\u001b[1;32m    165\u001b[0m \u001b[38;5;28;01mif\u001b[39;00m e\u001b[38;5;241m.\u001b[39mcode() \u001b[38;5;241m==\u001b[39m grpc\u001b[38;5;241m.\u001b[39mStatusCode\u001b[38;5;241m.\u001b[39mRESOURCE_EXHAUSTED:\n\u001b[0;32m--> 166\u001b[0m     \u001b[38;5;28;01mraise\u001b[39;00m TuneError(\n\u001b[1;32m    167\u001b[0m         \u001b[38;5;124mf\u001b[39m\u001b[38;5;124m\"\u001b[39m\u001b[38;5;124mThe Trainable/training function is too large for grpc resource \u001b[39m\u001b[38;5;124m\"\u001b[39m\n\u001b[1;32m    168\u001b[0m         \u001b[38;5;124mf\u001b[39m\u001b[38;5;124m\"\u001b[39m\u001b[38;5;124mlimit. Check that its definition is not implicitly capturing a \u001b[39m\u001b[38;5;124m\"\u001b[39m\n\u001b[1;32m    169\u001b[0m         \u001b[38;5;124mf\u001b[39m\u001b[38;5;124m\"\u001b[39m\u001b[38;5;124mlarge array or other object in scope. \u001b[39m\u001b[38;5;124m\"\u001b[39m\n\u001b[1;32m    170\u001b[0m         \u001b[38;5;124mf\u001b[39m\u001b[38;5;124m\"\u001b[39m\u001b[38;5;124mTip: use tune.with_parameters() to put large objects \u001b[39m\u001b[38;5;124m\"\u001b[39m\n\u001b[1;32m    171\u001b[0m         \u001b[38;5;124mf\u001b[39m\u001b[38;5;124m\"\u001b[39m\u001b[38;5;124min the Ray object store. \u001b[39m\u001b[38;5;130;01m\\n\u001b[39;00m\u001b[38;5;124m\"\u001b[39m\n\u001b[1;32m    172\u001b[0m         \u001b[38;5;124mf\u001b[39m\u001b[38;5;124m\"\u001b[39m\u001b[38;5;124mOriginal exception: \u001b[39m\u001b[38;5;132;01m{\u001b[39;00mtraceback\u001b[38;5;241m.\u001b[39mformat_exc()\u001b[38;5;132;01m}\u001b[39;00m\u001b[38;5;124m\"\u001b[39m\n\u001b[1;32m    173\u001b[0m     )\n\u001b[1;32m    174\u001b[0m \u001b[38;5;28;01melse\u001b[39;00m:\n",
      "\u001b[0;31mTuneError\u001b[0m: The Trainable/training function is too large for grpc resource limit. Check that its definition is not implicitly capturing a large array or other object in scope. Tip: use tune.with_parameters() to put large objects in the Ray object store. \nOriginal exception: Traceback (most recent call last):\n  File \"/home/vivi/anaconda3/envs/iasa/lib/python3.10/site-packages/ray/tune/experiment/experiment.py\", line 163, in __init__\n    self._run_identifier = Experiment.register_if_needed(run)\n  File \"/home/vivi/anaconda3/envs/iasa/lib/python3.10/site-packages/ray/tune/experiment/experiment.py\", line 356, in register_if_needed\n    register_trainable(name, run_object)\n  File \"/home/vivi/anaconda3/envs/iasa/lib/python3.10/site-packages/ray/tune/registry.py\", line 101, in register_trainable\n    _global_registry.register(TRAINABLE_CLASS, name, trainable)\n  File \"/home/vivi/anaconda3/envs/iasa/lib/python3.10/site-packages/ray/tune/registry.py\", line 189, in register\n    self.flush_values()\n  File \"/home/vivi/anaconda3/envs/iasa/lib/python3.10/site-packages/ray/tune/registry.py\", line 211, in flush_values\n    _internal_kv_put(\n  File \"/home/vivi/anaconda3/envs/iasa/lib/python3.10/site-packages/ray/_private/client_mode_hook.py\", line 105, in wrapper\n    return func(*args, **kwargs)\n  File \"/home/vivi/anaconda3/envs/iasa/lib/python3.10/site-packages/ray/experimental/internal_kv.py\", line 94, in _internal_kv_put\n    return global_gcs_client.internal_kv_put(key, value, overwrite, namespace) == 0\n  File \"/home/vivi/anaconda3/envs/iasa/lib/python3.10/site-packages/ray/_private/gcs_utils.py\", line 177, in wrapper\n    return f(self, *args, **kwargs)\n  File \"/home/vivi/anaconda3/envs/iasa/lib/python3.10/site-packages/ray/_private/gcs_utils.py\", line 296, in internal_kv_put\n    reply = self._kv_stub.InternalKVPut(req, timeout=timeout)\n  File \"/home/vivi/anaconda3/envs/iasa/lib/python3.10/site-packages/grpc/_channel.py\", line 946, in __call__\n    return _end_unary_response_blocking(state, call, False, None)\n  File \"/home/vivi/anaconda3/envs/iasa/lib/python3.10/site-packages/grpc/_channel.py\", line 849, in _end_unary_response_blocking\n    raise _InactiveRpcError(state)\ngrpc._channel._InactiveRpcError: <_InactiveRpcError of RPC that terminated with:\n\tstatus = StatusCode.RESOURCE_EXHAUSTED\n\tdetails = \"Received message larger than max (459694706 vs. 262144000)\"\n\tdebug_error_string = \"{\"created\":\"@1662808044.796213431\",\"description\":\"Error received from peer ipv4:192.168.1.110:57117\",\"file\":\"src/core/lib/surface/call.cc\",\"file_line\":1074,\"grpc_message\":\"Received message larger than max (459694706 vs. 262144000)\",\"grpc_status\":8}\"\n>\n",
      "\nThe above exception was the direct cause of the following exception:\n",
      "\u001b[0;31mTuneError\u001b[0m                                 Traceback (most recent call last)",
      "Input \u001b[0;32mIn [11]\u001b[0m, in \u001b[0;36m<cell line: 1>\u001b[0;34m()\u001b[0m\n\u001b[0;32m----> 1\u001b[0m results \u001b[38;5;241m=\u001b[39m \u001b[43mtuner\u001b[49m\u001b[38;5;241;43m.\u001b[39;49m\u001b[43mfit\u001b[49m\u001b[43m(\u001b[49m\u001b[43m)\u001b[49m\n",
      "File \u001b[0;32m~/anaconda3/envs/iasa/lib/python3.10/site-packages/ray/tune/tuner.py:236\u001b[0m, in \u001b[0;36mTuner.fit\u001b[0;34m(self)\u001b[0m\n\u001b[1;32m    234\u001b[0m         \u001b[38;5;28;01mreturn\u001b[39;00m \u001b[38;5;28mself\u001b[39m\u001b[38;5;241m.\u001b[39m_local_tuner\u001b[38;5;241m.\u001b[39mfit()\n\u001b[1;32m    235\u001b[0m     \u001b[38;5;28;01mexcept\u001b[39;00m \u001b[38;5;167;01mException\u001b[39;00m \u001b[38;5;28;01mas\u001b[39;00m e:\n\u001b[0;32m--> 236\u001b[0m         \u001b[38;5;28;01mraise\u001b[39;00m TuneError(\n\u001b[1;32m    237\u001b[0m             \u001b[38;5;124mf\u001b[39m\u001b[38;5;124m\"\u001b[39m\u001b[38;5;124mTune run failed. \u001b[39m\u001b[38;5;124m\"\u001b[39m\n\u001b[1;32m    238\u001b[0m             \u001b[38;5;124mf\u001b[39m\u001b[38;5;124m'\u001b[39m\u001b[38;5;124mPlease use tuner = Tuner.restore(\u001b[39m\u001b[38;5;124m\"\u001b[39m\u001b[38;5;124m'\u001b[39m\n\u001b[1;32m    239\u001b[0m             \u001b[38;5;124mf\u001b[39m\u001b[38;5;124m'\u001b[39m\u001b[38;5;132;01m{\u001b[39;00m\u001b[38;5;28mself\u001b[39m\u001b[38;5;241m.\u001b[39m_local_tuner\u001b[38;5;241m.\u001b[39mget_experiment_checkpoint_dir()\u001b[38;5;132;01m}\u001b[39;00m\u001b[38;5;124m\"\u001b[39m\u001b[38;5;124m) to resume.\u001b[39m\u001b[38;5;124m'\u001b[39m\n\u001b[1;32m    240\u001b[0m         ) \u001b[38;5;28;01mfrom\u001b[39;00m \u001b[38;5;21;01me\u001b[39;00m\n\u001b[1;32m    241\u001b[0m \u001b[38;5;28;01melse\u001b[39;00m:\n\u001b[1;32m    242\u001b[0m     experiment_checkpoint_dir \u001b[38;5;241m=\u001b[39m ray\u001b[38;5;241m.\u001b[39mget(\n\u001b[1;32m    243\u001b[0m         \u001b[38;5;28mself\u001b[39m\u001b[38;5;241m.\u001b[39m_remote_tuner\u001b[38;5;241m.\u001b[39mget_experiment_checkpoint_dir\u001b[38;5;241m.\u001b[39mremote()\n\u001b[1;32m    244\u001b[0m     )\n",
      "\u001b[0;31mTuneError\u001b[0m: Tune run failed. Please use tuner = Tuner.restore(\"/home/vivi/tune_results/hyperopt_xgb\") to resume."
     ]
    },
    {
     "name": "stderr",
     "output_type": "stream",
     "text": [
      "*** SIGTERM received at time=1662812555 on cpu 3 ***\n",
      "PC: @     0x7f82fd420fde  (unknown)  epoll_wait\n",
      "    @     0x7f82fd33d520  (unknown)  (unknown)\n",
      "[2022-09-10 15:22:35,351 E 16637 16637] logging.cc:361: *** SIGTERM received at time=1662812555 on cpu 3 ***\n",
      "[2022-09-10 15:22:35,351 E 16637 16637] logging.cc:361: PC: @     0x7f82fd420fde  (unknown)  epoll_wait\n",
      "[2022-09-10 15:22:35,351 E 16637 16637] logging.cc:361:     @     0x7f82fd33d520  (unknown)  (unknown)\n"
     ]
    }
   ],
   "source": [
    "results = tuner.fit()"
   ]
  },
  {
   "cell_type": "code",
   "execution_count": 2,
   "id": "7c9316dd-6f49-4447-ba8b-0d289725cf94",
   "metadata": {},
   "outputs": [],
   "source": [
    "android_dict = pd.read_pickle('./datasets/android_dict.pkl')"
   ]
  },
  {
   "cell_type": "code",
   "execution_count": 4,
   "id": "33c948f4-c3f0-4dc5-bd6d-c4d56f356644",
   "metadata": {},
   "outputs": [],
   "source": [
    "X_train, y_train = android_dict['train']\n",
    "X_test, y_test = android_dict['test']"
   ]
  },
  {
   "cell_type": "code",
   "execution_count": 9,
   "id": "7a350167-1967-4a14-afad-9108b0f81fce",
   "metadata": {},
   "outputs": [
    {
     "name": "stderr",
     "output_type": "stream",
     "text": [
      "/home/vivi/anaconda3/envs/iasa/lib/python3.10/site-packages/skopt/searchcv.py:300: UserWarning: The `iid` parameter has been deprecated and will be ignored.\n",
      "  warnings.warn(\"The `iid` parameter has been deprecated \"\n"
     ]
    }
   ],
   "source": [
    "search_spaces = {'learning_rate': Real(0.01, 1.0, 'uniform'),\n",
    "                 'max_depth': Integer(2, 12),\n",
    "                 'subsample': Real(0.1, 1.0, 'uniform'),\n",
    "                 'colsample_bytree': Real(0.1, 1.0, 'uniform'),\n",
    "                 'reg_lambda': Real(1e-9, 100., 'uniform'),\n",
    "                 'reg_alpha': Real(1e-9, 100., 'uniform'),\n",
    "                 'n_estimators': Integer(100, 2000)\n",
    "}\n",
    "\n",
    "skf = StratifiedKFold(n_splits=7,\n",
    "                      shuffle=True, \n",
    "                      random_state=42)\n",
    "\n",
    "y_stratified = pd.cut(y_train.rank(method='first'), bins=10, labels=False)\n",
    "cv = list(skf.split(X_train, y_stratified))\n",
    "scoring = make_scorer(partial(mean_squared_error, squared=True), \n",
    "                      greater_is_better=False)\n",
    "\n",
    "xgb = XGBRegressor(random_state=42)\n",
    "\n",
    "opt = BayesSearchCV(estimator=xgb,                                    \n",
    "                    search_spaces=search_spaces,                      \n",
    "                    scoring=scoring,                                  \n",
    "                    cv=cv,                                           \n",
    "                    n_iter=3,\n",
    "                    n_points=1,\n",
    "                    n_jobs=1,\n",
    "                    iid=False,\n",
    "                    return_train_score=False,                         \n",
    "                    refit=False,                                      \n",
    "                    optimizer_kwargs={'base_estimator': 'GP'},\n",
    "                    random_state=0)"
   ]
  },
  {
   "cell_type": "code",
   "execution_count": 20,
   "id": "8ea5d456-d79a-4f02-aeaa-b7f4c20f51c6",
   "metadata": {},
   "outputs": [],
   "source": [
    "opt.fit(X_train, y_train)"
   ]
  }
 ],
 "metadata": {
  "kernelspec": {
   "display_name": "Python 3",
   "language": "python",
   "name": "python3"
  },
  "language_info": {
   "codemirror_mode": {
    "name": "ipython",
    "version": 3
   },
   "file_extension": ".py",
   "mimetype": "text/x-python",
   "name": "python",
   "nbconvert_exporter": "python",
   "pygments_lexer": "ipython3",
   "version": "3.10.4"
  }
 },
 "nbformat": 4,
 "nbformat_minor": 5
}
